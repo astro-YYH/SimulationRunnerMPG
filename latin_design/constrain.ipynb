{
 "cells": [
  {
   "cell_type": "code",
   "execution_count": 1,
   "metadata": {},
   "outputs": [],
   "source": [
    "import numpy as np\n",
    "import matplotlib.pyplot as plt"
   ]
  },
  {
   "cell_type": "code",
   "execution_count": 2,
   "metadata": {},
   "outputs": [
    {
     "name": "stdout",
     "output_type": "stream",
     "text": [
      "[[1.         0.02777778 0.02777778 0.36111111 0.69444444 0.02777778\n",
      "  0.36111111 0.69444444 0.36111111 0.52777778 0.69444444]\n",
      " [1.         0.47222222 0.97222222 0.91666667 0.30555556 0.63888889\n",
      "  0.91666667 0.19444444 0.30555556 0.25       0.63888889]\n",
      " [1.         0.86111111 0.41666667 0.19444444 0.41666667 0.97222222\n",
      "  0.19444444 0.58333333 0.75       0.86111111 0.13888889]\n",
      " [2.         0.19444444 0.80555556 0.52777778 0.86111111 0.91666667\n",
      "  0.25       0.52777778 0.08333333 0.80555556 0.47222222]\n",
      " [2.         0.52777778 0.58333333 0.25       0.58333333 0.08333333\n",
      "  0.75       0.13888889 0.91666667 0.41666667 0.91666667]\n",
      " [2.         0.75       0.19444444 0.86111111 0.02777778 0.47222222\n",
      "  0.52777778 0.91666667 0.47222222 0.30555556 0.19444444]\n",
      " [3.         0.08333333 0.30555556 0.58333333 0.47222222 0.58333333\n",
      "  0.97222222 0.75       0.97222222 0.75       0.30555556]\n",
      " [3.         0.41666667 0.86111111 0.13888889 0.25       0.69444444\n",
      "  0.02777778 0.47222222 0.58333333 0.08333333 0.75      ]\n",
      " [3.         0.97222222 0.36111111 0.80555556 0.80555556 0.25\n",
      "  0.47222222 0.25       0.02777778 0.58333333 0.36111111]\n",
      " [4.         0.13888889 0.47222222 0.69444444 0.52777778 0.36111111\n",
      "  0.08333333 0.08333333 0.69444444 0.47222222 0.08333333]\n",
      " [4.         0.58333333 0.69444444 0.41666667 0.13888889 0.30555556\n",
      "  0.69444444 0.63888889 0.13888889 0.97222222 0.86111111]\n",
      " [4.         0.80555556 0.25       0.30555556 0.91666667 0.75\n",
      "  0.63888889 0.80555556 0.63888889 0.02777778 0.58333333]\n",
      " [5.         0.30555556 0.91666667 0.47222222 0.63888889 0.13888889\n",
      "  0.58333333 0.97222222 0.25       0.13888889 0.25      ]\n",
      " [5.         0.36111111 0.13888889 0.02777778 0.75       0.80555556\n",
      "  0.80555556 0.02777778 0.41666667 0.69444444 0.41666667]\n",
      " [5.         0.91666667 0.52777778 0.97222222 0.19444444 0.52777778\n",
      "  0.13888889 0.36111111 0.86111111 0.63888889 0.80555556]\n",
      " [6.         0.25       0.08333333 0.75       0.36111111 0.86111111\n",
      "  0.41666667 0.41666667 0.19444444 0.19444444 0.97222222]\n",
      " [6.         0.63888889 0.63888889 0.63888889 0.97222222 0.19444444\n",
      "  0.30555556 0.86111111 0.80555556 0.91666667 0.52777778]\n",
      " [6.         0.69444444 0.75       0.08333333 0.08333333 0.41666667\n",
      "  0.86111111 0.30555556 0.52777778 0.36111111 0.02777778]]\n"
     ]
    }
   ],
   "source": [
    "\n",
    "\n",
    "# Read the CSV file\n",
    "data = np.genfromtxt('SLHD_t6_m3_k10.csv', delimiter=',', skip_header=1)\n",
    "# data_HF = np.genfromtxt('/Users/astroyyh/Desktop/GitReps/SimulationRunner11P/latin_design/SLHD_t90_m3_k11_HF.csv', delimiter=',', skip_header=1)\n",
    "# data_test = np.genfromtxt('/Users/astroyyh/Desktop/GitReps/SimulationRunner11P/latin_design/SLHD_t2_m5_k11.csv', delimiter=',', skip_header=1)\n",
    "\n",
    "# Display the data\n",
    "print(data)\n"
   ]
  },
  {
   "cell_type": "code",
   "execution_count": 3,
   "metadata": {},
   "outputs": [
    {
     "data": {
      "text/plain": [
       "(18, 11)"
      ]
     },
     "execution_count": 3,
     "metadata": {},
     "output_type": "execute_result"
    }
   ],
   "source": [
    "data.shape"
   ]
  },
  {
   "cell_type": "code",
   "execution_count": 4,
   "metadata": {},
   "outputs": [
    {
     "data": {
      "text/plain": [
       "numpy.ndarray"
      ]
     },
     "execution_count": 4,
     "metadata": {},
     "output_type": "execute_result"
    }
   ],
   "source": [
    "type(data)"
   ]
  },
  {
   "cell_type": "code",
   "execution_count": 5,
   "metadata": {},
   "outputs": [],
   "source": [
    "# exclude slices with w0 + wa >= 0\n",
    "data_new = []\n",
    "len_slice = 3\n",
    "w0_l = -1.3\n",
    "w0_u = .25\n",
    "wa_l = -3\n",
    "wa_u = .5\n",
    "\n",
    "for i in range(0, data.shape[0], len_slice):\n",
    "    exclude = False\n",
    "    for j in range(len_slice):\n",
    "        # recover from normalized values\n",
    "        w0 = data[i+j,6] * (w0_u - w0_l) + w0_l\n",
    "        wa = data[i+j,7] * (wa_u - wa_l) + wa_l\n",
    "        if w0 + wa >= -.2:  # exclude slices with w0 + wa >= -0.2\n",
    "            exclude = True\n",
    "            break\n",
    "    if exclude == False:\n",
    "        for j in range(len_slice):\n",
    "            data_new.append(data[i+j])\n",
    "\n",
    "data_new = np.array(data_new)"
   ]
  },
  {
   "cell_type": "code",
   "execution_count": 6,
   "metadata": {},
   "outputs": [
    {
     "data": {
      "text/plain": [
       "(12, 11)"
      ]
     },
     "execution_count": 6,
     "metadata": {},
     "output_type": "execute_result"
    }
   ],
   "source": [
    "data_new.shape"
   ]
  },
  {
   "cell_type": "code",
   "execution_count": 7,
   "metadata": {},
   "outputs": [],
   "source": [
    "# make the first column integer\n",
    "data_new[:,0] = data_new[:,0].astype(int)"
   ]
  },
  {
   "cell_type": "code",
   "execution_count": 8,
   "metadata": {},
   "outputs": [
    {
     "name": "stdout",
     "output_type": "stream",
     "text": [
      "4\n"
     ]
    }
   ],
   "source": [
    "# number of slices\n",
    "n_slice = data_new.shape[0] // len_slice\n",
    "print(n_slice)"
   ]
  },
  {
   "cell_type": "code",
   "execution_count": 9,
   "metadata": {},
   "outputs": [],
   "source": [
    "# write to a new file with header\n",
    "# first column is integer while others are float\n",
    "# save the data\n",
    "\n",
    "\n",
    "# np.savetxt('SLHD_t%d_m3_k10.csv' % n_slice, data_new, delimiter=',', header=\"excluded slices with w0 + wa >= 0\")"
   ]
  },
  {
   "cell_type": "code",
   "execution_count": 10,
   "metadata": {},
   "outputs": [],
   "source": [
    "# assign new slice numbers\n",
    "# slice number = index // len_slice + 1\n",
    "for i in range(data_new.shape[0]):\n",
    "    data_new[i,0] = i // len_slice + 1"
   ]
  },
  {
   "cell_type": "code",
   "execution_count": 11,
   "metadata": {},
   "outputs": [],
   "source": [
    "# save to a new file line by line\n",
    "# first column is integer while others are float\n",
    "# save the data\n",
    "with open('SLHD_t%d_m3_k10.csv' % n_slice, 'w') as f:\n",
    "    f.write(\"\\\"Slice\\\",\\\"\\\",\\\"\\\",\\\"\\\",\\\"\\\",\\\"\\\",\\\"\\\",\\\"\\\",\\\"\\\",\\\"\\\",\\\"\\\"\\n\")\n",
    "    for i in range(data_new.shape[0]):\n",
    "        f.write(str(int(data_new[i,0])) + ',')\n",
    "        f.write(','.join(map(str, data_new[i,1:])) + '\\n')\n"
   ]
  },
  {
   "cell_type": "code",
   "execution_count": null,
   "metadata": {},
   "outputs": [],
   "source": []
  }
 ],
 "metadata": {
  "kernelspec": {
   "display_name": "gpy-env",
   "language": "python",
   "name": "python3"
  },
  "language_info": {
   "codemirror_mode": {
    "name": "ipython",
    "version": 3
   },
   "file_extension": ".py",
   "mimetype": "text/x-python",
   "name": "python",
   "nbconvert_exporter": "python",
   "pygments_lexer": "ipython3",
   "version": "3.12.2"
  }
 },
 "nbformat": 4,
 "nbformat_minor": 2
}
