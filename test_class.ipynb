{
 "cells": [
  {
   "cell_type": "code",
   "execution_count": 45,
   "metadata": {},
   "outputs": [],
   "source": [
    "import classylss.binding as CLASS\n",
    "import numpy as np\n",
    "import math\n",
    "\n",
    "# dir(CLASS.ClassEngine())\n"
   ]
  },
  {
   "cell_type": "code",
   "execution_count": 46,
   "metadata": {},
   "outputs": [],
   "source": [
    "def get_neutrino_masses(total_mass: float, hierarchy: str) -> np.ndarray:\n",
    "    \"\"\"Get the three neutrino masses, including the mass splittings.\n",
    "        Hierarchy is 'inverted' (two heavy), 'normal' (two light) or degenerate.\"\"\"\n",
    "    #Neutrino mass splittings\n",
    "    nu_M21 = 7.53e-5 #Particle data group 2016: +- 0.18e-5 eV2\n",
    "    nu_M32n = 2.44e-3 #Particle data group: +- 0.06e-3 eV2\n",
    "    nu_M32i = 2.51e-3 #Particle data group: +- 0.06e-3 eV2\n",
    "\n",
    "    if hierarchy == 'normal':\n",
    "        nu_M32 = nu_M32n\n",
    "        #If the total mass is below that allowed by the hierarchy,\n",
    "        #assign one active neutrino.\n",
    "        if total_mass < np.sqrt(nu_M32n) + np.sqrt(nu_M21):\n",
    "            return np.array([total_mass, 0, 0])\n",
    "    elif hierarchy == 'inverted':\n",
    "        nu_M32 = -nu_M32i\n",
    "        if total_mass < 2*np.sqrt(nu_M32i) - np.sqrt(nu_M21):\n",
    "            return np.array([total_mass/2., total_mass/2., 0])\n",
    "    #Hierarchy == 0 is 3 degenerate neutrinos\n",
    "    else:\n",
    "        return np.ones(3)*total_mass/3.\n",
    "\n",
    "    #DD is the summed masses of the two closest neutrinos\n",
    "    DD1 = 4 * total_mass/3. - 2/3.*np.sqrt(total_mass**2 + 3*nu_M32 + 1.5*nu_M21)\n",
    "    #Last term was neglected initially. This should be very well converged.\n",
    "    DD = 4 * total_mass/3. - 2/3.*np.sqrt(total_mass**2 + 3*nu_M32 + 1.5*nu_M21+0.75*nu_M21**2/DD1**2)\n",
    "    nu_masses = np.array([ total_mass - DD, 0.5*(DD + nu_M21/DD), 0.5*(DD - nu_M21/DD)])\n",
    "    assert np.isfinite(DD)\n",
    "    assert np.abs(DD1/DD -1) < 2e-2\n",
    "    assert np.all(nu_masses >= 0)\n",
    "    return nu_masses\n"
   ]
  },
  {
   "cell_type": "code",
   "execution_count": 47,
   "metadata": {},
   "outputs": [],
   "source": [
    "m_nu = 0.1 # eV\n",
    "hubble = 0.67\n",
    "omega0 = 0.3\n",
    "omegab = 0.05\n",
    "ns = 0.96\n",
    "scalar_amp = 2.1e-9\n",
    "alpha_s = 0.0\n",
    "w0_fld = -1.0\n",
    "wa_fld = 0.0\n",
    "N_ur = 0.\n",
    "# Neff = 3.4\n",
    "\n",
    "nu_hierarchy = 'normal'\n",
    "nu_acc = 1e-5\n",
    "redshift = 99\n",
    "box = 100\n",
    "npart = 75"
   ]
  },
  {
   "cell_type": "code",
   "execution_count": null,
   "metadata": {},
   "outputs": [],
   "source": []
  },
  {
   "cell_type": "code",
   "execution_count": 48,
   "metadata": {},
   "outputs": [
    {
     "name": "stdout",
     "output_type": "stream",
     "text": [
      "cambfile: setting up massive neutrinos...\n"
     ]
    }
   ],
   "source": [
    "pre_params = {\n",
    "            'tol_background_integration': 1e-9, 'tol_perturb_integration' : 1.e-7,\n",
    "            'tol_thermo_integration':1.e-5, 'k_per_decade_for_pk': 50,'k_bao_width': 8,\n",
    "            'k_per_decade_for_bao':  200, 'neglect_CMB_sources_below_visibility' : 1.e-30,\n",
    "            'transfer_neglect_late_source': 3000., 'l_max_g' : 50,\n",
    "            'l_max_ur':150, 'extra metric transfer functions': 'y'}\n",
    "\n",
    "        #Set the neutrino density and subtract it from omega0\n",
    "omeganu = m_nu/93.14/hubble**2\n",
    "omcdm   = (omega0 - omegab) - omeganu\n",
    "gparams = {'h': hubble, 'Omega_cdm': omcdm,'Omega_b': omegab,\n",
    "            'Omega_k': 0, 'n_s': ns, 'A_s': scalar_amp, 'alpha_s': alpha_s}\n",
    "\n",
    "        #Lambda is computed self-consistently\n",
    "if w0_fld != -1.0 or wa_fld != 0.:\n",
    "    gparams['Omega_fld'] = 1 - omega0\n",
    "    gparams['w0_fld'] = w0_fld \n",
    "    gparams['wa_fld'] = wa_fld\n",
    "else:\n",
    "    gparams['Omega_fld'] = 0\n",
    "        # gparams['Omega_fld'] = 1 - omega0\n",
    "        \n",
    "        # gparams['w0_fld'] = w0_fld \n",
    "        # gparams['wa_fld'] = wa_fld\n",
    "        # gparams['Omega_ur'] = omega_ur   # do not set Omega_ur if\n",
    "        # set N_ur\n",
    "numass = get_neutrino_masses(m_nu, nu_hierarchy)\n",
    "\n",
    "        #Set up massive neutrinos\n",
    "if m_nu > 0:\n",
    "    print(\"cambfile: setting up massive neutrinos...\")\n",
    "    gparams['m_ncdm'] = '%.8f,%.8f,%.8f' % (numass[2], numass[1], numass[0])\n",
    "    gparams['N_ncdm'] = 3\n",
    "            # gparams['N_ur'] = 0.00641\n",
    "            # gparams['N_ur'] = N_ur - 3\n",
    "    # gparams['N_ur'] = N_ur\n",
    "    gparams['N_eff'] = 3.9\n",
    "            #Neutrino accuracy: Default pk_ref.pre has tol_ncdm_* = 1e-10,\n",
    "            #which takes 45 minutes (!) on my laptop.\n",
    "            #tol_ncdm_* = 1e-8 takes 20 minutes and is machine-accurate.\n",
    "            #Default parameters are fast but off by 2%.\n",
    "            #I chose 1e-5, which takes 6 minutes and is accurate to 1e-5\n",
    "    gparams['tol_ncdm_newtonian'] = min(nu_acc,1e-5)\n",
    "    gparams['tol_ncdm_synchronous'] = nu_acc\n",
    "    gparams['tol_ncdm_bg'] = 1e-10\n",
    "    gparams['l_max_ncdm'] = 50\n",
    "            #This disables the fluid approximations, which make P_nu not match \n",
    "            # camb on small scales.\n",
    "            #We need accurate P_nu to initialise our neutrino code.\n",
    "    gparams['ncdm_fluid_approximation'] = 2\n",
    "            #Does nothing unless ncdm_fluid_approximation = 2\n",
    "            #Spend less time on neutrino power for smaller neutrino mass\n",
    "    gparams['ncdm_fluid_trigger_tau_over_tau_k'] = 30000.* (m_nu / 0.4)\n",
    "else:\n",
    "            # gparams['N_ur'] = 3.046\n",
    "    gparams['N_ur'] = N_ur # for mnu = 0, N_ur cannot be less than 3.046 in CLASS\n",
    "\n",
    "        #Initial cosmology\n",
    "pre_params.update(gparams)\n",
    "\n",
    "maxk        = 2 * math.pi / box * npart * 8\n",
    "powerparams = {'output': 'dTk vTk mPk', 'P_k_max_h/Mpc' : maxk, \n",
    "            \"z_max_pk\" : redshift + 1}\n",
    "pre_params.update(powerparams)\n",
    "\n",
    "        #At which redshifts should we produce CAMB output: we want the start and\n",
    "        # end redshifts of the simulation, but we also want some other values\n",
    "        # for checking purposes\n",
    "\n",
    "\n",
    "\n",
    "\n",
    "        # \n",
    "        # pre_params['Omega_fld'] = 1 - omega0 + bg.Omega0_lambda  # so that Omega0_lambda == 0 (forced)\n"
   ]
  },
  {
   "cell_type": "code",
   "execution_count": 49,
   "metadata": {},
   "outputs": [],
   "source": [
    "engine  = CLASS.ClassEngine(pre_params)\n",
    "# powspec = CLASS.Spectra(engine) # powerspec is an object"
   ]
  },
  {
   "cell_type": "code",
   "execution_count": 50,
   "metadata": {},
   "outputs": [],
   "source": [
    "bg = CLASS.Background(engine)"
   ]
  },
  {
   "cell_type": "code",
   "execution_count": 51,
   "metadata": {},
   "outputs": [
    {
     "data": {
      "text/plain": [
       "['C',\n",
       " 'G',\n",
       " 'H0',\n",
       " 'N_ncdm',\n",
       " 'N_ur',\n",
       " 'Neff',\n",
       " 'Omega0_b',\n",
       " 'Omega0_cdm',\n",
       " 'Omega0_dcdm',\n",
       " 'Omega0_fld',\n",
       " 'Omega0_g',\n",
       " 'Omega0_k',\n",
       " 'Omega0_lambda',\n",
       " 'Omega0_m',\n",
       " 'Omega0_ncdm',\n",
       " 'Omega0_ncdm_tot',\n",
       " 'Omega0_pncdm',\n",
       " 'Omega0_pncdm_tot',\n",
       " 'Omega0_r',\n",
       " 'Omega0_ur',\n",
       " 'Omega_b',\n",
       " 'Omega_cdm',\n",
       " 'Omega_fld',\n",
       " 'Omega_g',\n",
       " 'Omega_k',\n",
       " 'Omega_lambda',\n",
       " 'Omega_m',\n",
       " 'Omega_ncdm',\n",
       " 'Omega_pncdm',\n",
       " 'Omega_r',\n",
       " 'Omega_ur',\n",
       " 'T0_cmb',\n",
       " 'T0_ncdm',\n",
       " 'T_cmb',\n",
       " 'T_ncdm',\n",
       " '_RHO_',\n",
       " '__class__',\n",
       " '__delattr__',\n",
       " '__dir__',\n",
       " '__doc__',\n",
       " '__eq__',\n",
       " '__format__',\n",
       " '__ge__',\n",
       " '__getattribute__',\n",
       " '__gt__',\n",
       " '__hash__',\n",
       " '__init__',\n",
       " '__init_subclass__',\n",
       " '__le__',\n",
       " '__lt__',\n",
       " '__ne__',\n",
       " '__new__',\n",
       " '__reduce__',\n",
       " '__reduce_ex__',\n",
       " '__repr__',\n",
       " '__setattr__',\n",
       " '__setstate__',\n",
       " '__sizeof__',\n",
       " '__str__',\n",
       " '__subclasshook__',\n",
       " 'a_max',\n",
       " 'a_today',\n",
       " 'age0',\n",
       " 'angular_diameter_distance',\n",
       " 'comoving_distance',\n",
       " 'comoving_transverse_distance',\n",
       " 'compute_for_z',\n",
       " 'data',\n",
       " 'efunc',\n",
       " 'efunc_prime',\n",
       " 'h',\n",
       " 'hubble_function',\n",
       " 'hubble_function_prime',\n",
       " 'luminosity_distance',\n",
       " 'm_ncdm',\n",
       " 'p_ncdm',\n",
       " 'rho_b',\n",
       " 'rho_cdm',\n",
       " 'rho_crit',\n",
       " 'rho_fld',\n",
       " 'rho_g',\n",
       " 'rho_k',\n",
       " 'rho_lambda',\n",
       " 'rho_m',\n",
       " 'rho_ncdm',\n",
       " 'rho_r',\n",
       " 'rho_tot',\n",
       " 'rho_ur',\n",
       " 'scale_independent_growth_factor',\n",
       " 'scale_independent_growth_rate',\n",
       " 'tau',\n",
       " 'time',\n",
       " 'w0_fld',\n",
       " 'wa_fld']"
      ]
     },
     "execution_count": 51,
     "metadata": {},
     "output_type": "execute_result"
    }
   ],
   "source": [
    "dir(bg)"
   ]
  },
  {
   "cell_type": "code",
   "execution_count": 52,
   "metadata": {},
   "outputs": [
    {
     "data": {
      "text/plain": [
       "3.9"
      ]
     },
     "execution_count": 52,
     "metadata": {},
     "output_type": "execute_result"
    }
   ],
   "source": [
    "bg.N_ur"
   ]
  },
  {
   "cell_type": "code",
   "execution_count": 53,
   "metadata": {},
   "outputs": [],
   "source": [
    "# bg.N_eff"
   ]
  },
  {
   "cell_type": "code",
   "execution_count": 54,
   "metadata": {},
   "outputs": [
    {
     "data": {
      "text/plain": [
       "3.039604882997471"
      ]
     },
     "execution_count": 54,
     "metadata": {},
     "output_type": "execute_result"
    }
   ],
   "source": [
    "bg.Neff - bg.N_ur"
   ]
  },
  {
   "cell_type": "code",
   "execution_count": 55,
   "metadata": {},
   "outputs": [
    {
     "data": {
      "text/plain": [
       "0.006395117002527595"
      ]
     },
     "execution_count": 55,
     "metadata": {},
     "output_type": "execute_result"
    }
   ],
   "source": [
    "3.046 - 3.0396048829974722"
   ]
  },
  {
   "cell_type": "code",
   "execution_count": 56,
   "metadata": {},
   "outputs": [
    {
     "data": {
      "text/plain": [
       "5.508975898555038e-05"
      ]
     },
     "execution_count": 56,
     "metadata": {},
     "output_type": "execute_result"
    }
   ],
   "source": [
    "bg.Omega0_g"
   ]
  },
  {
   "cell_type": "code",
   "execution_count": 57,
   "metadata": {},
   "outputs": [
    {
     "data": {
      "text/plain": [
       "5.5089758985550374e-05"
      ]
     },
     "execution_count": 57,
     "metadata": {},
     "output_type": "execute_result"
    }
   ],
   "source": [
    "bg.Omega_g(0.)"
   ]
  },
  {
   "cell_type": "code",
   "execution_count": 58,
   "metadata": {},
   "outputs": [
    {
     "data": {
      "text/plain": [
       "0.00010481709225486054"
      ]
     },
     "execution_count": 58,
     "metadata": {},
     "output_type": "execute_result"
    }
   ],
   "source": [
    "bg.Omega0_r"
   ]
  },
  {
   "cell_type": "code",
   "execution_count": 59,
   "metadata": {},
   "outputs": [
    {
     "data": {
      "text/plain": [
       "4.972733326931016e-05"
      ]
     },
     "execution_count": 59,
     "metadata": {},
     "output_type": "execute_result"
    }
   ],
   "source": [
    "bg.Omega0_r - bg.Omega0_g"
   ]
  },
  {
   "cell_type": "code",
   "execution_count": 37,
   "metadata": {},
   "outputs": [
    {
     "data": {
      "text/plain": [
       "3.974597633663343"
      ]
     },
     "execution_count": 37,
     "metadata": {},
     "output_type": "execute_result"
    }
   ],
   "source": [
    "(bg.Omega0_r - bg.Omega0_g) / bg.Omega0_g / (7/8 * (4/11)**(4/3))"
   ]
  },
  {
   "cell_type": "code",
   "execution_count": 60,
   "metadata": {},
   "outputs": [
    {
     "data": {
      "text/plain": [
       "4.879402083565384e-05"
      ]
     },
     "execution_count": 60,
     "metadata": {},
     "output_type": "execute_result"
    }
   ],
   "source": [
    "bg.Omega0_ur"
   ]
  },
  {
   "cell_type": "code",
   "execution_count": 39,
   "metadata": {},
   "outputs": [
    {
     "data": {
      "text/plain": [
       "9.517026277905835e-05"
      ]
     },
     "execution_count": 39,
     "metadata": {},
     "output_type": "execute_result"
    }
   ],
   "source": [
    "bg.Omega0_g + bg.Omega0_ur"
   ]
  },
  {
   "cell_type": "code",
   "execution_count": 40,
   "metadata": {},
   "outputs": [],
   "source": [
    "Omega_ur = 7/8 * (4/11)**(4/3) * 3.046 * bg.Omega0_g"
   ]
  },
  {
   "cell_type": "code",
   "execution_count": 41,
   "metadata": {},
   "outputs": [
    {
     "data": {
      "text/plain": [
       "3.491285981853417e-05"
      ]
     },
     "execution_count": 41,
     "metadata": {},
     "output_type": "execute_result"
    }
   ],
   "source": [
    "7/8 * (4/11)**(4/3) * 3.046 * bg.Omega0_g"
   ]
  },
  {
   "cell_type": "code",
   "execution_count": 42,
   "metadata": {},
   "outputs": [
    {
     "data": {
      "text/plain": [
       "3.491285981853417e-05"
      ]
     },
     "execution_count": 42,
     "metadata": {},
     "output_type": "execute_result"
    }
   ],
   "source": [
    "Omega_ur"
   ]
  },
  {
   "cell_type": "code",
   "execution_count": 44,
   "metadata": {},
   "outputs": [
    {
     "data": {
      "text/plain": [
       "1.7262331129323747e-05"
      ]
     },
     "execution_count": 44,
     "metadata": {},
     "output_type": "execute_result"
    }
   ],
   "source": [
    "5.3900210121286624e-05 - 7/8 * (4/11)**(4/3) * 3.046 * 5.29626e-05"
   ]
  },
  {
   "cell_type": "code",
   "execution_count": 9,
   "metadata": {},
   "outputs": [
    {
     "name": "stdout",
     "output_type": "stream",
     "text": [
      "0.1\n"
     ]
    }
   ],
   "source": [
    "import decimal\n",
    "\n",
    "def round_redshift(z):\n",
    "    if z < 1:\n",
    "        rounded_z = round(z, 1)\n",
    "    else:\n",
    "        rounded_z = int(z)\n",
    "    return rounded_z\n",
    "\n",
    "# Example usage\n",
    "\n",
    "print(round_redshift(0.123456789))\n"
   ]
  },
  {
   "cell_type": "code",
   "execution_count": 10,
   "metadata": {},
   "outputs": [
    {
     "data": {
      "text/plain": [
       "3.1"
      ]
     },
     "execution_count": 10,
     "metadata": {},
     "output_type": "execute_result"
    }
   ],
   "source": [
    "round_redshift(3.1)"
   ]
  },
  {
   "cell_type": "code",
   "execution_count": null,
   "metadata": {},
   "outputs": [],
   "source": []
  }
 ],
 "metadata": {
  "kernelspec": {
   "display_name": "Python 3",
   "language": "python",
   "name": "python3"
  },
  "language_info": {
   "codemirror_mode": {
    "name": "ipython",
    "version": 3
   },
   "file_extension": ".py",
   "mimetype": "text/x-python",
   "name": "python",
   "nbconvert_exporter": "python",
   "pygments_lexer": "ipython3",
   "version": "3.8.16"
  },
  "orig_nbformat": 4
 },
 "nbformat": 4,
 "nbformat_minor": 2
}
