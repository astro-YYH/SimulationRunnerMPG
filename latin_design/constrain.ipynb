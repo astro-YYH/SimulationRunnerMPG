{
 "cells": [
  {
   "cell_type": "code",
   "execution_count": 34,
   "metadata": {},
   "outputs": [],
   "source": [
    "import numpy as np\n",
    "import matplotlib.pyplot as plt"
   ]
  },
  {
   "cell_type": "code",
   "execution_count": 35,
   "metadata": {},
   "outputs": [
    {
     "name": "stdout",
     "output_type": "stream",
     "text": [
      "[[1.00000000e+00 1.03333333e-01 3.67333333e-01 ... 8.24666667e-01\n",
      "  8.16666667e-01 4.43333333e-01]\n",
      " [1.00000000e+00 3.86000000e-01 7.08666667e-01 ... 3.34000000e-01\n",
      "  1.53333333e-02 2.00000000e-03]\n",
      " [1.00000000e+00 8.18000000e-01 1.12666667e-01 ... 2.78000000e-01\n",
      "  4.19333333e-01 9.67333333e-01]\n",
      " ...\n",
      " [2.50000000e+02 8.46666667e-02 3.10000000e-01 ... 9.51333333e-01\n",
      "  6.27333333e-01 7.76666667e-01]\n",
      " [2.50000000e+02 5.39333333e-01 7.55333333e-01 ... 1.74000000e-01\n",
      "  1.75333333e-01 4.96666667e-01]\n",
      " [2.50000000e+02 7.59333333e-01 3.82000000e-01 ... 4.02000000e-01\n",
      "  7.90000000e-01 2.87333333e-01]]\n"
     ]
    }
   ],
   "source": [
    "\n",
    "\n",
    "# Read the CSV file\n",
    "data = np.genfromtxt('SLHD_t250_m3_k10.csv', delimiter=',', skip_header=1)\n",
    "# data_HF = np.genfromtxt('/Users/astroyyh/Desktop/GitReps/SimulationRunner11P/latin_design/SLHD_t90_m3_k11_HF.csv', delimiter=',', skip_header=1)\n",
    "# data_test = np.genfromtxt('/Users/astroyyh/Desktop/GitReps/SimulationRunner11P/latin_design/SLHD_t2_m5_k11.csv', delimiter=',', skip_header=1)\n",
    "\n",
    "# Display the data\n",
    "print(data)\n"
   ]
  },
  {
   "cell_type": "code",
   "execution_count": 36,
   "metadata": {},
   "outputs": [
    {
     "data": {
      "text/plain": [
       "(750, 11)"
      ]
     },
     "execution_count": 36,
     "metadata": {},
     "output_type": "execute_result"
    }
   ],
   "source": [
    "data.shape"
   ]
  },
  {
   "cell_type": "code",
   "execution_count": 37,
   "metadata": {},
   "outputs": [
    {
     "data": {
      "text/plain": [
       "numpy.ndarray"
      ]
     },
     "execution_count": 37,
     "metadata": {},
     "output_type": "execute_result"
    }
   ],
   "source": [
    "type(data)"
   ]
  },
  {
   "cell_type": "code",
   "execution_count": 38,
   "metadata": {},
   "outputs": [],
   "source": [
    "# exclude slices with w0 + wa >= 0\n",
    "data_new = []\n",
    "len_slice = 3\n",
    "w0_l = -1.3\n",
    "w0_u = .25\n",
    "wa_l = -3\n",
    "wa_u = .5\n",
    "\n",
    "for i in range(0, data.shape[0], len_slice):\n",
    "    exclude = False\n",
    "    for j in range(len_slice):\n",
    "        # recover from normalized values\n",
    "        w0 = data[i+j,6] * (w0_u - w0_l) + w0_l\n",
    "        wa = data[i+j,7] * (wa_u - wa_l) + wa_l\n",
    "        if w0 + wa >= -.2:  # exclude slices with w0 + wa >= -0.2\n",
    "            exclude = True\n",
    "            break\n",
    "    if exclude == False:\n",
    "        for j in range(len_slice):\n",
    "            data_new.append(data[i+j])\n",
    "\n",
    "data_new = np.array(data_new)"
   ]
  },
  {
   "cell_type": "code",
   "execution_count": 39,
   "metadata": {},
   "outputs": [
    {
     "data": {
      "text/plain": [
       "(564, 11)"
      ]
     },
     "execution_count": 39,
     "metadata": {},
     "output_type": "execute_result"
    }
   ],
   "source": [
    "data_new.shape"
   ]
  },
  {
   "cell_type": "code",
   "execution_count": 40,
   "metadata": {},
   "outputs": [],
   "source": [
    "# make the first column integer\n",
    "data_new[:,0] = data_new[:,0].astype(int)"
   ]
  },
  {
   "cell_type": "code",
   "execution_count": 41,
   "metadata": {},
   "outputs": [
    {
     "name": "stdout",
     "output_type": "stream",
     "text": [
      "188\n"
     ]
    }
   ],
   "source": [
    "# number of slices\n",
    "n_slice = data_new.shape[0] // len_slice\n",
    "print(n_slice)"
   ]
  },
  {
   "cell_type": "code",
   "execution_count": 42,
   "metadata": {},
   "outputs": [],
   "source": [
    "# write to a new file with header\n",
    "# first column is integer while others are float\n",
    "# save the data\n",
    "\n",
    "\n",
    "# np.savetxt('SLHD_t%d_m3_k10.csv' % n_slice, data_new, delimiter=',', header=\"excluded slices with w0 + wa >= 0\")"
   ]
  },
  {
   "cell_type": "code",
   "execution_count": 43,
   "metadata": {},
   "outputs": [],
   "source": [
    "# assign new slice numbers\n",
    "# slice number = index // len_slice + 1\n",
    "for i in range(data_new.shape[0]):\n",
    "    data_new[i,0] = i // len_slice + 1"
   ]
  },
  {
   "cell_type": "code",
   "execution_count": 44,
   "metadata": {},
   "outputs": [],
   "source": [
    "# save to a new file line by line\n",
    "# first column is integer while others are float\n",
    "# save the data\n",
    "with open('SLHD_t%d_m3_k10.csv' % n_slice, 'w') as f:\n",
    "    f.write(\"\\\"Slice\\\",\\\"\\\",\\\"\\\",\\\"\\\",\\\"\\\",\\\"\\\",\\\"\\\",\\\"\\\",\\\"\\\",\\\"\\\",\\\"\\\"\\n\")\n",
    "    for i in range(data_new.shape[0]):\n",
    "        f.write(str(int(data_new[i,0])) + ',')\n",
    "        f.write(','.join(map(str, data_new[i,1:])) + '\\n')\n"
   ]
  },
  {
   "cell_type": "code",
   "execution_count": null,
   "metadata": {},
   "outputs": [],
   "source": []
  }
 ],
 "metadata": {
  "kernelspec": {
   "display_name": "gpy-env",
   "language": "python",
   "name": "python3"
  },
  "language_info": {
   "codemirror_mode": {
    "name": "ipython",
    "version": 3
   },
   "file_extension": ".py",
   "mimetype": "text/x-python",
   "name": "python",
   "nbconvert_exporter": "python",
   "pygments_lexer": "ipython3",
   "version": "3.12.2"
  }
 },
 "nbformat": 4,
 "nbformat_minor": 2
}
