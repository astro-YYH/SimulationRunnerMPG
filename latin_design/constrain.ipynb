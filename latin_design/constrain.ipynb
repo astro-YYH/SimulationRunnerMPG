{
 "cells": [
  {
   "cell_type": "code",
   "execution_count": 23,
   "metadata": {},
   "outputs": [],
   "source": [
    "import numpy as np\n",
    "import matplotlib.pyplot as plt"
   ]
  },
  {
   "cell_type": "code",
   "execution_count": 24,
   "metadata": {},
   "outputs": [
    {
     "name": "stdout",
     "output_type": "stream",
     "text": [
      "[[1.         0.125      0.125      0.625      0.79166667 0.70833333\n",
      "  0.875      0.375      0.20833333 0.375      0.125     ]\n",
      " [1.         0.625      0.54166667 0.79166667 0.04166667 0.54166667\n",
      "  0.04166667 0.70833333 0.45833333 0.04166667 0.79166667]\n",
      " [1.         0.70833333 0.875      0.04166667 0.625      0.20833333\n",
      "  0.45833333 0.29166667 0.70833333 0.95833333 0.625     ]\n",
      " [2.         0.04166667 0.29166667 0.70833333 0.54166667 0.29166667\n",
      "  0.70833333 0.625      0.95833333 0.54166667 0.95833333]\n",
      " [2.         0.54166667 0.45833333 0.54166667 0.20833333 0.79166667\n",
      "  0.29166667 0.04166667 0.04166667 0.875      0.45833333]\n",
      " [2.         0.95833333 0.70833333 0.29166667 0.70833333 0.375\n",
      "  0.54166667 0.79166667 0.54166667 0.125      0.04166667]\n",
      " [3.         0.20833333 0.95833333 0.45833333 0.375      0.95833333\n",
      "  0.375      0.20833333 0.875      0.29166667 0.29166667]\n",
      " [3.         0.45833333 0.375      0.125      0.29166667 0.45833333\n",
      "  0.95833333 0.875      0.125      0.45833333 0.875     ]\n",
      " [3.         0.79166667 0.20833333 0.95833333 0.875      0.125\n",
      "  0.20833333 0.45833333 0.625      0.79166667 0.375     ]\n",
      " [4.         0.29166667 0.625      0.375      0.95833333 0.875\n",
      "  0.125      0.95833333 0.29166667 0.625      0.54166667]\n",
      " [4.         0.375      0.79166667 0.875      0.125      0.04166667\n",
      "  0.79166667 0.54166667 0.375      0.70833333 0.20833333]\n",
      " [4.         0.875      0.04166667 0.20833333 0.45833333 0.625\n",
      "  0.625      0.125      0.79166667 0.20833333 0.70833333]]\n"
     ]
    }
   ],
   "source": [
    "\n",
    "\n",
    "# Read the CSV file\n",
    "data = np.genfromtxt('SLHD_narrow_t4_m3_k10.csv', delimiter=',', skip_header=1)\n",
    "# data_HF = np.genfromtxt('/Users/astroyyh/Desktop/GitReps/SimulationRunner11P/latin_design/SLHD_t90_m3_k11_HF.csv', delimiter=',', skip_header=1)\n",
    "# data_test = np.genfromtxt('/Users/astroyyh/Desktop/GitReps/SimulationRunner11P/latin_design/SLHD_t2_m5_k11.csv', delimiter=',', skip_header=1)\n",
    "\n",
    "# Display the data\n",
    "print(data)\n"
   ]
  },
  {
   "cell_type": "code",
   "execution_count": 25,
   "metadata": {},
   "outputs": [
    {
     "data": {
      "text/plain": [
       "(12, 11)"
      ]
     },
     "execution_count": 25,
     "metadata": {},
     "output_type": "execute_result"
    }
   ],
   "source": [
    "data.shape"
   ]
  },
  {
   "cell_type": "code",
   "execution_count": 26,
   "metadata": {},
   "outputs": [
    {
     "data": {
      "text/plain": [
       "numpy.ndarray"
      ]
     },
     "execution_count": 26,
     "metadata": {},
     "output_type": "execute_result"
    }
   ],
   "source": [
    "type(data)"
   ]
  },
  {
   "cell_type": "code",
   "execution_count": 27,
   "metadata": {},
   "outputs": [],
   "source": [
    "# exclude slices with w0 + wa >= -.2\n",
    "data_new = []\n",
    "len_slice = 3\n",
    "w0_l = -1.3\n",
    "w0_u = -.5\n",
    "wa_l = -1\n",
    "wa_u = .5\n",
    "\n",
    "for i in range(0, data.shape[0], len_slice):\n",
    "    exclude = False\n",
    "    for j in range(len_slice):\n",
    "        # recover from normalized values\n",
    "        w0 = data[i+j,6] * (w0_u - w0_l) + w0_l\n",
    "        wa = data[i+j,7] * (wa_u - wa_l) + wa_l\n",
    "        if w0 + wa >= -.2:  # exclude slices with w0 + wa >= -0.2\n",
    "            exclude = True\n",
    "            break\n",
    "    if exclude == False:\n",
    "        for j in range(len_slice):\n",
    "            data_new.append(data[i+j])\n",
    "\n",
    "data_new = np.array(data_new)"
   ]
  },
  {
   "cell_type": "code",
   "execution_count": 28,
   "metadata": {},
   "outputs": [
    {
     "data": {
      "text/plain": [
       "(12, 11)"
      ]
     },
     "execution_count": 28,
     "metadata": {},
     "output_type": "execute_result"
    }
   ],
   "source": [
    "data_new.shape"
   ]
  },
  {
   "cell_type": "code",
   "execution_count": 29,
   "metadata": {},
   "outputs": [],
   "source": [
    "# make the first column integer\n",
    "data_new[:,0] = data_new[:,0].astype(int)"
   ]
  },
  {
   "cell_type": "code",
   "execution_count": 30,
   "metadata": {},
   "outputs": [
    {
     "name": "stdout",
     "output_type": "stream",
     "text": [
      "4\n"
     ]
    }
   ],
   "source": [
    "# number of slices\n",
    "n_slice = data_new.shape[0] // len_slice\n",
    "print(n_slice)"
   ]
  },
  {
   "cell_type": "code",
   "execution_count": 31,
   "metadata": {},
   "outputs": [],
   "source": [
    "# write to a new file with header\n",
    "# first column is integer while others are float\n",
    "# save the data\n",
    "\n",
    "\n",
    "# np.savetxt('SLHD_t%d_m3_k10.csv' % n_slice, data_new, delimiter=',', header=\"excluded slices with w0 + wa >= 0\")"
   ]
  },
  {
   "cell_type": "code",
   "execution_count": 32,
   "metadata": {},
   "outputs": [],
   "source": [
    "# assign new slice numbers\n",
    "# slice number = index // len_slice + 1\n",
    "for i in range(data_new.shape[0]):\n",
    "    data_new[i,0] = i // len_slice + 1"
   ]
  },
  {
   "cell_type": "code",
   "execution_count": 33,
   "metadata": {},
   "outputs": [],
   "source": [
    "# save to a new file line by line\n",
    "# first column is integer while others are float\n",
    "# save the data\n",
    "with open('SLHD_narrow_t%d_m3_k10.csv' % n_slice, 'w') as f:\n",
    "    f.write(\"\\\"Slice\\\",\\\"\\\",\\\"\\\",\\\"\\\",\\\"\\\",\\\"\\\",\\\"\\\",\\\"\\\",\\\"\\\",\\\"\\\",\\\"\\\"\\n\")\n",
    "    for i in range(data_new.shape[0]):\n",
    "        f.write(str(int(data_new[i,0])) + ',')\n",
    "        f.write(','.join(map(str, data_new[i,1:])) + '\\n')\n"
   ]
  },
  {
   "cell_type": "code",
   "execution_count": null,
   "metadata": {},
   "outputs": [],
   "source": []
  }
 ],
 "metadata": {
  "kernelspec": {
   "display_name": "gpy-env",
   "language": "python",
   "name": "python3"
  },
  "language_info": {
   "codemirror_mode": {
    "name": "ipython",
    "version": 3
   },
   "file_extension": ".py",
   "mimetype": "text/x-python",
   "name": "python",
   "nbconvert_exporter": "python",
   "pygments_lexer": "ipython3",
   "version": "3.12.2"
  }
 },
 "nbformat": 4,
 "nbformat_minor": 2
}
