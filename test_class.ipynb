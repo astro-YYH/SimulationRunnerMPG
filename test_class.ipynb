{
 "cells": [
  {
   "cell_type": "code",
   "execution_count": null,
   "metadata": {},
   "outputs": [
    {
     "ename": "",
     "evalue": "",
     "output_type": "error",
     "traceback": [
      "\u001b[1;31mRunning cells with '/rhome/yyang440/anaconda3/envs/nbodykit-env/bin/python' requires the ipykernel package.\n",
      "\u001b[1;31mRun the following command to install 'ipykernel' into the Python environment. \n",
      "\u001b[1;31mCommand: 'conda install -p /rhome/yyang440/anaconda3/envs/nbodykit-env ipykernel --update-deps --force-reinstall'"
     ]
    }
   ],
   "source": [
    "import classylss.binding as CLASS\n",
    "\n",
    "dir(CLASS.ClassEngine())\n",
    "\n",
    "engine = CLASS.ClassEngine()\n",
    "\n",
    "dir(CLASS.Spectra(engine))"
   ]
  },
  {
   "cell_type": "code",
   "execution_count": null,
   "metadata": {},
   "outputs": [
    {
     "ename": "",
     "evalue": "",
     "output_type": "error",
     "traceback": [
      "\u001b[1;31mRunning cells with '/rhome/yyang440/anaconda3/envs/nbodykit-env/bin/python' requires the ipykernel package.\n",
      "\u001b[1;31mRun the following command to install 'ipykernel' into the Python environment. \n",
      "\u001b[1;31mCommand: 'conda install -p /rhome/yyang440/anaconda3/envs/nbodykit-env ipykernel --update-deps --force-reinstall'"
     ]
    }
   ],
   "source": []
  }
 ],
 "metadata": {
  "kernelspec": {
   "display_name": "Python 3",
   "language": "python",
   "name": "python3"
  },
  "language_info": {
   "name": "python",
   "version": "3.8.16"
  },
  "orig_nbformat": 4
 },
 "nbformat": 4,
 "nbformat_minor": 2
}
